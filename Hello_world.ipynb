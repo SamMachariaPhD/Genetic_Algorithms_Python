{
 "cells": [
  {
   "cell_type": "markdown",
   "id": "infinite-texture",
   "metadata": {},
   "source": [
    "## First Program"
   ]
  },
  {
   "cell_type": "markdown",
   "id": "fitting-replacement",
   "metadata": {},
   "source": [
    "### Genes"
   ]
  },
  {
   "cell_type": "markdown",
   "id": "local-terry",
   "metadata": {},
   "source": [
    "- In the begining, the genetic algorithm needs a gene set to use for building guesses.\n",
    "- Here, the gene set will be a generic set of letters.\n",
    "- It also needs a target password to guess."
   ]
  },
  {
   "cell_type": "code",
   "execution_count": 1,
   "id": "curious-creation",
   "metadata": {},
   "outputs": [],
   "source": [
    "geneSet = \" abcdefghijklmnopqrstuvwxyzABCDEFGHIJKLMNOPQRSTUVWXYZ!.\"\n",
    "target = \"Hello World!\""
   ]
  },
  {
   "cell_type": "markdown",
   "id": "solid-zambia",
   "metadata": {},
   "source": [
    "### Generate a guess"
   ]
  },
  {
   "cell_type": "code",
   "execution_count": 2,
   "id": "frank-charger",
   "metadata": {},
   "outputs": [],
   "source": [
    "import random\n",
    "\n",
    "def generate_parent(length):\n",
    "    genes=[]\n",
    "    while len(genes) < length:\n",
    "        sampleSize = min(length - len(genes), len(geneSet))\n",
    "        genes.extend(random.sample(geneSet, sampleSize))\n",
    "    return ''.join(genes)"
   ]
  },
  {
   "cell_type": "markdown",
   "id": "thick-mentor",
   "metadata": {},
   "source": [
    "`random.sample` takes `sampleSize` values from the input without replacement. This means that there will be no duplicates in the generated parent unless `geneSet` contains duplicates, or length is greater than `len(geneSet)`. The implementation above can generate a long string with a small set of genes and uses as many unique genes as possible."
   ]
  },
  {
   "cell_type": "markdown",
   "id": "previous-counter",
   "metadata": {},
   "source": [
    "### Fitness"
   ]
  },
  {
   "cell_type": "markdown",
   "id": "third-movie",
   "metadata": {},
   "source": [
    "- The fitness value is the only feedback that guides GA to a solution.\n",
    "- In this project, the fitness value is the total number of letters in the guess that match the letter in the same position of the password."
   ]
  },
  {
   "cell_type": "code",
   "execution_count": 3,
   "id": "noticed-current",
   "metadata": {},
   "outputs": [],
   "source": [
    "def get_fitness(guess):\n",
    "    return sum(1 for expected, actual in zip(target,guess) if expected == actual)"
   ]
  },
  {
   "cell_type": "markdown",
   "id": "engaged-bridge",
   "metadata": {},
   "source": [
    "### Mutate"
   ]
  },
  {
   "cell_type": "markdown",
   "id": "funded-working",
   "metadata": {},
   "source": [
    "- The engine needs a way to produce a new guess by mutating the current one.\n",
    "- The following implementation converts the parent string to an array with `list(patent`, then replaces 1 letter in the array with the randomly selected one from the `geneSet`, and finally recombines the result into a string with `''.join(ChildGenes)`."
   ]
  },
  {
   "cell_type": "code",
   "execution_count": 4,
   "id": "warming-utility",
   "metadata": {},
   "outputs": [],
   "source": [
    "def mutate(parent):\n",
    "    index = random.randrange(0, len(parent))\n",
    "    childGenes = list(parent)\n",
    "    newGene, alternate = random.sample(geneSet, 2)\n",
    "    childGenes[index] = alternate \\\n",
    "        if newGene == childGenes[index] \\\n",
    "        else newGene\n",
    "    return ''.join(childGenes)"
   ]
  },
  {
   "cell_type": "markdown",
   "id": "congressional-program",
   "metadata": {},
   "source": [
    "This implementation uses an alternate replacement if the randomly selected `newGene` is the same as the one it is supposed to replace, which can prevent a significant number of wasted guesses."
   ]
  },
  {
   "cell_type": "markdown",
   "id": "unable-butterfly",
   "metadata": {},
   "source": [
    "### Display"
   ]
  },
  {
   "cell_type": "markdown",
   "id": "incorrect-slide",
   "metadata": {},
   "source": [
    "- It is important to monitor what is happening so that the engine can be stopped if it gets stuck."
   ]
  },
  {
   "cell_type": "code",
   "execution_count": 5,
   "id": "conditional-launch",
   "metadata": {},
   "outputs": [],
   "source": [
    "import datetime\n",
    "...\n",
    "def display(guess):\n",
    "    timeDiff = datetime.datetime.now() - startTime\n",
    "    fitness = get_fitness(guess)\n",
    "    print(\"{0}\\t{1}\\t{2}\".format(guess, fitness, str(timeDiff)))"
   ]
  },
  {
   "cell_type": "markdown",
   "id": "monthly-society",
   "metadata": {},
   "source": [
    "### Main"
   ]
  },
  {
   "cell_type": "markdown",
   "id": "trying-guide",
   "metadata": {},
   "source": [
    "The main program begins by initializing `bestParent` to a random sequence of letters and calling the display function."
   ]
  },
  {
   "cell_type": "code",
   "execution_count": 6,
   "id": "infinite-morning",
   "metadata": {},
   "outputs": [
    {
     "name": "stdout",
     "output_type": "stream",
     "text": [
      "ElZ WSpACXwv\t0\t0:00:00.000178\n"
     ]
    }
   ],
   "source": [
    "random.seed()\n",
    "startTime = datetime.datetime.now()\n",
    "bestParent = generate_parent(len(target))\n",
    "bestFitness = get_fitness(bestParent)\n",
    "display(bestParent)"
   ]
  },
  {
   "cell_type": "markdown",
   "id": "declared-experience",
   "metadata": {},
   "source": [
    "The final piece is the heart of the genetic engine - a loop that:\n",
    "- generates a guess,\n",
    "- requests the `fitness` for that guess,\n",
    "- compares the `fitness` to that of the previous best guess, and \n",
    "- keeps the guess with the better fitness.\n",
    "This cycle repeats untill a `stop condition` occurs, in this case when all the letters in the guess match those in the target."
   ]
  },
  {
   "cell_type": "code",
   "execution_count": 7,
   "id": "governmental-spice",
   "metadata": {},
   "outputs": [
    {
     "name": "stdout",
     "output_type": "stream",
     "text": [
      "ElZ WSWACXwv\t1\t0:00:05.212893\n",
      "ElZ WSWArXwv\t2\t0:00:05.213300\n",
      "ElZ oSWArXwv\t3\t0:00:05.213786\n",
      "ElZ oSWArXdv\t4\t0:00:05.214265\n",
      "ElZ oSWorXdv\t5\t0:00:05.214345\n",
      "HlZ oSWorXdv\t6\t0:00:05.215281\n",
      "Hll oSWorXdv\t7\t0:00:05.216446\n",
      "Hel oSWorXdv\t8\t0:00:05.216544\n",
      "Hel oSWorldv\t9\t0:00:05.216583\n",
      "HelloSWorldv\t10\t0:00:05.217478\n",
      "HelloSWorld!\t11\t0:00:05.219173\n",
      "Hello World!\t12\t0:00:05.230206\n"
     ]
    }
   ],
   "source": [
    "while True:\n",
    "    child = mutate(bestParent)\n",
    "    childFitness = get_fitness(child)\n",
    "    if bestFitness >= childFitness:\n",
    "        continue\n",
    "    display(child)\n",
    "    if childFitness >= len(bestParent):\n",
    "        break\n",
    "    bestFitness = childFitness\n",
    "    bestParent = child"
   ]
  },
  {
   "cell_type": "code",
   "execution_count": null,
   "id": "invalid-evans",
   "metadata": {},
   "outputs": [],
   "source": []
  }
 ],
 "metadata": {
  "kernelspec": {
   "display_name": "Python 3",
   "language": "python",
   "name": "python3"
  },
  "language_info": {
   "codemirror_mode": {
    "name": "ipython",
    "version": 3
   },
   "file_extension": ".py",
   "mimetype": "text/x-python",
   "name": "python",
   "nbconvert_exporter": "python",
   "pygments_lexer": "ipython3",
   "version": "3.7.3"
  }
 },
 "nbformat": 4,
 "nbformat_minor": 5
}
