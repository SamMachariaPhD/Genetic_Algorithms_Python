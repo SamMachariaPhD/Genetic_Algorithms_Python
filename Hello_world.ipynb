{
 "cells": [
  {
   "cell_type": "markdown",
   "id": "disturbed-stationery",
   "metadata": {},
   "source": [
    "## First Program"
   ]
  },
  {
   "cell_type": "markdown",
   "id": "colored-scheduling",
   "metadata": {},
   "source": [
    "Remember kids game for guessing numbers. It is a simple game played by two people. One picks a secret number between 1 and 10 and the other has to guess the secret number. <br>\n",
    "`\n",
    "Is it 2? - No.\n",
    "Is it 5? - No.\n",
    "Is it 3? - No.\n",
    "Is it 7? - No.\n",
    "Is it 1? - Yes!\n",
    "` <br>\n",
    "This game works fine for a small range and quicly becomes frustrating when the range is increased to 100 or more. This is because there is no way to improve your guess. You are likely to a lot more.<br>\n",
    "The game can be made more interesting by giving a `Higher` or `Lower` hint after every guess. <br>\n",
    "`\n",
    "Is it 2? - No. It's lower.\n",
    "Is it 1? - Yes.\n",
    "`\n",
    "<br>\n",
    "Let's say your secret number is `1`. Consider the following friend: <br>\n",
    "`\n",
    "Friend: Is it 2?\n",
    "You: No. It's lower.\n",
    "Friend: Is it 7?\n",
    "`\n",
    "<br>\n",
    "I bet you wonder what's wrong with this friend. `7` is not lower than `2`. Still, guessing `2` again would be as insane as it is absurd. Why is that? <br>\n",
    "Because we are expected to use `the domain knowledge` to improve our guesses. <br>\n",
    "\n",
    "Similarly, when playing a card game,\n",
    "- Inexperienced players build a mental map using the cards in their hands and those on the table.\n",
    "- More experienced players also take advantage of their problem space knowledge and the entire deck of cards.\n",
    "- Highly experienced card players take into consideration the probabilities.\n",
    "- Professionals pay attention to the way their competitors play as well.\n",
    "<br>\n"
   ]
  },
  {
   "cell_type": "markdown",
   "id": "distinct-hampton",
   "metadata": {},
   "source": [
    ">**A genetic algorithm does not know what lower means. It has *no intelligence*. It does not learn** <br>\n",
    "It will *make same mistakes every time*. It can only be as good as its programmer can get. <br>\n",
    "**And yet it *can be used to find solutions that its programmer would struggle to find*.** How is this possible?"
   ]
  },
  {
   "cell_type": "markdown",
   "id": "sexual-delaware",
   "metadata": {},
   "source": [
    "* Genetic algorithms use **random exploration** of the problem space combined with **evolutionary processes** like mutation and crossover (exchange of genetic information) to **imporove guesses**.\n",
    "* Because they have no experience in the problem domain, they try things a human would never think to try. Thus a person using a genetic algorithm may learn more about the problem space and potential solutions.\n",
    "* This is important in algorithm improvement.\n",
    "* This technique provides informed guesses to the user."
   ]
  },
  {
   "cell_type": "markdown",
   "id": "signed-burner",
   "metadata": {},
   "source": [
    "### Genes"
   ]
  },
  {
   "cell_type": "markdown",
   "id": "talented-termination",
   "metadata": {},
   "source": [
    "- In the begining, the genetic algorithm needs a gene set to use for building guesses.\n",
    "- Here, the gene set will be a generic set of letters.\n",
    "- It also needs a target password to guess."
   ]
  },
  {
   "cell_type": "code",
   "execution_count": 1,
   "id": "subtle-allen",
   "metadata": {},
   "outputs": [],
   "source": [
    "geneSet = \" abcdefghijklmnopqrstuvwxyzABCDEFGHIJKLMNOPQRSTUVWXYZ!.\"\n",
    "target = \"Hello World!\""
   ]
  },
  {
   "cell_type": "markdown",
   "id": "grave-conference",
   "metadata": {},
   "source": [
    "### Generate a guess"
   ]
  },
  {
   "cell_type": "code",
   "execution_count": 45,
   "id": "artistic-extra",
   "metadata": {},
   "outputs": [
    {
     "name": "stdout",
     "output_type": "stream",
     "text": [
      "5\n",
      "55\n",
      "5\n",
      "[]\n",
      "oS CN\n"
     ]
    }
   ],
   "source": [
    "import random\n",
    "# guess a combination of letters given the required length\n",
    "length = 5\n",
    "genes=[]\n",
    "while len(genes) < length:\n",
    "    print(length - len(genes)); print(len(geneSet))\n",
    "    sampleSize = min(length - len(genes), len(geneSet)); print(sampleSize); print(genes)\n",
    "    genes.extend(random.sample(geneSet, sampleSize))\n",
    "    print(''.join(genes))"
   ]
  },
  {
   "cell_type": "code",
   "execution_count": 2,
   "id": "magnetic-europe",
   "metadata": {},
   "outputs": [],
   "source": [
    "import random\n",
    "\n",
    "def generate_parent(length):\n",
    "    genes=[]\n",
    "    while len(genes) < length:\n",
    "        sampleSize = min(length - len(genes), len(geneSet))\n",
    "        genes.extend(random.sample(geneSet, sampleSize))\n",
    "    return ''.join(genes)"
   ]
  },
  {
   "cell_type": "markdown",
   "id": "restricted-possession",
   "metadata": {},
   "source": [
    "`random.sample` takes `sampleSize` values from the input without replacement. This means that there will be no duplicates in the generated parent unless `geneSet` contains duplicates, or length is greater than `len(geneSet)`. The implementation above can generate a long string with a small set of genes and uses as many unique genes as possible."
   ]
  },
  {
   "cell_type": "markdown",
   "id": "global-publicity",
   "metadata": {},
   "source": [
    "* `min()` returns the lowest value.\n",
    "* `list1.extend(list2)` takes the contents of `list1` and adds the contents of `list2` such that the final result is one long list of both `list1` and `list2` items.  \n",
    "* not to be confused, `.append()` simply adds an object at the end of the list. <br>\n",
    "```python\n",
    "#append: Appends object at the end.\n",
    "x = [1, 2, 3]\n",
    "x.append([4, 5])\n",
    "print(x)\n",
    "gives you: [1, 2, 3, [4, 5]] \n",
    "#extend: Extends list by appending elements from the iterable.\n",
    "x = [1, 2, 3]\n",
    "x.extend([4, 5])\n",
    "print(x)\n",
    "gives you: [1, 2, 3, 4, 5]\n",
    "```\n",
    "* `random.sample(list,size)` randomly picks values from the provided list with the specified length/size.\n",
    "* `join` puts together all elements of a turple into a string\n",
    "```python\n",
    "#Join all items in a tuple into a string, using a hash character as separator:\n",
    "myTuple = (\"John\", \"Peter\", \"Vicky\")\n",
    "x = \"#\".join(myTuple)\n",
    "print(x)\n",
    "gives you: John#Peter#Vicky\n",
    "```"
   ]
  },
  {
   "cell_type": "markdown",
   "id": "suitable-speed",
   "metadata": {},
   "source": [
    "### Fitness"
   ]
  },
  {
   "cell_type": "markdown",
   "id": "inner-layout",
   "metadata": {},
   "source": [
    "- The fitness value is the only feedback that guides GA to a solution.\n",
    "- In this project, the fitness value is the total number of letters in the guess that match the letter in the same position of the password."
   ]
  },
  {
   "cell_type": "code",
   "execution_count": 78,
   "id": "noble-anime",
   "metadata": {},
   "outputs": [
    {
     "name": "stdout",
     "output_type": "stream",
     "text": [
      "0\n",
      "12\n",
      "24\n",
      "Hello World!\n",
      "adeW2 r52yu0\n",
      "1ad2 ru0812\n",
      "[('H', 'a'), ('e', 'd'), ('l', 'e'), ('l', 'W'), ('o', '2'), (' ', ' '), ('W', 'r'), ('o', '5'), ('r', '2'), ('l', 'y'), ('d', 'u'), ('!', '0')]\n",
      "1\n",
      "[('H', '1'), ('e', 'a'), ('l', 'd'), ('l', '2'), ('o', ' '), (' ', 'r'), ('W', 'u'), ('o', '0'), ('r', '8'), ('l', '1'), ('d', '2')]\n",
      "0\n"
     ]
    }
   ],
   "source": [
    "guess = \"adeW2 r52yu0\"\n",
    "guess2 = \"1ad2 ru0812\"\n",
    "\n",
    "print(sum(0 for i in guess))\n",
    "print(sum(1 for i in guess))\n",
    "print(sum(2 for i in guess))\n",
    "print(target)\n",
    "print(guess)\n",
    "print(guess2)\n",
    "\n",
    "print(list(zip(target,guess)))\n",
    "print(sum(1 for expected, actual in zip(target,guess) if expected == actual))\n",
    "print(list(zip(target,guess2)))\n",
    "print(sum(1 for expected2, actual2 in zip(target,guess2) if expected2 == actual2))"
   ]
  },
  {
   "cell_type": "code",
   "execution_count": 3,
   "id": "fatty-ranch",
   "metadata": {},
   "outputs": [],
   "source": [
    "def get_fitness(guess):\n",
    "    return sum(1 for expected, actual in zip(target,guess) if expected == actual)"
   ]
  },
  {
   "cell_type": "markdown",
   "id": "normal-motorcycle",
   "metadata": {},
   "source": [
    "* `zip()` gets elements from multiple lists\n",
    "```python\n",
    "names = ['Alice', 'Bob', 'Charlie']\n",
    "ages = [24, 50, 18]\n",
    "points = [100, 85, 90]\n",
    "for name, age, point in zip(names, ages, points):\n",
    "    print(name, age, point)\n",
    "# Alice 24 100\n",
    "# Bob 50 85\n",
    "# Charlie 18 90\n",
    "```"
   ]
  },
  {
   "cell_type": "markdown",
   "id": "directed-county",
   "metadata": {},
   "source": [
    "### Mutate"
   ]
  },
  {
   "cell_type": "markdown",
   "id": "danish-italy",
   "metadata": {},
   "source": [
    "- The engine needs a way to produce a new guess by mutating the current one.\n",
    "- The following implementation converts the parent string to an array with `list(patent`, then replaces 1 letter in the array with the randomly selected one from the `geneSet`, and finally recombines the result into a string with `''.join(ChildGenes)`."
   ]
  },
  {
   "cell_type": "code",
   "execution_count": 80,
   "id": "diverse-pendant",
   "metadata": {},
   "outputs": [
    {
     "name": "stdout",
     "output_type": "stream",
     "text": [
      "4\n"
     ]
    }
   ],
   "source": [
    "# return a randomly selected element from the specified range\n",
    "print(random.randrange(0, 5))"
   ]
  },
  {
   "cell_type": "code",
   "execution_count": 40,
   "id": "excess-dominican",
   "metadata": {},
   "outputs": [
    {
     "name": "stdout",
     "output_type": "stream",
     "text": [
      "Parent Name: Sam3Macharia7\n",
      "Parent length: 13\n",
      "Random index: 10\n",
      "Child genes: ['S', 'a', 'm', '3', 'M', 'a', 'c', 'h', 'a', 'r', 'i', 'a', '7']\n",
      "New gene: E\n",
      "Alternative : j\n",
      "New child genes: ['S', 'a', 'm', '3', 'M', 'a', 'c', 'h', 'a', 'r', 'E', 'a', '7']\n",
      "Child Name: Sam3MacharEa7\n"
     ]
    }
   ],
   "source": [
    "# MUTATION\n",
    "alpha_numeric = \"abcdefghijklmnopqrstuvwxyz0123456789ABCDEFGHIJKLMNOPQRSTUVWXYZ\"\n",
    "parent = \"Sam3Macharia7\"\n",
    "print(\"Parent Name: %s\"%parent)\n",
    "print(\"Parent length: %s\"%len(parent))\n",
    "index = random.randrange(0, len(parent))\n",
    "print(\"Random index: %s\"%index)\n",
    "childGenes = list(parent)\n",
    "print(\"Child genes: %s\"%childGenes)\n",
    "newGene, alternative = random.sample(alpha_numeric,2)\n",
    "print(\"New gene: %s\"%newGene)\n",
    "print(\"Alternative : %s\"%alternative)\n",
    "childGenes[index] = alternative if newGene == childGenes[index] else newGene\n",
    "print(\"New child genes: %s\"%childGenes)\n",
    "print(\"Child Name: %s\"%''.join(childGenes))"
   ]
  },
  {
   "cell_type": "code",
   "execution_count": 4,
   "id": "little-electricity",
   "metadata": {},
   "outputs": [],
   "source": [
    "def mutate(parent):\n",
    "    index = random.randrange(0, len(parent))\n",
    "    childGenes = list(parent)\n",
    "    newGene, alternate = random.sample(geneSet, 2)\n",
    "    childGenes[index] = alternate \\\n",
    "        if newGene == childGenes[index] \\\n",
    "        else newGene\n",
    "    return ''.join(childGenes)"
   ]
  },
  {
   "cell_type": "markdown",
   "id": "fuzzy-relay",
   "metadata": {},
   "source": [
    "This implementation uses an alternate replacement if the randomly selected `newGene` is the same as the one it is supposed to replace, which can prevent a significant number of wasted guesses."
   ]
  },
  {
   "cell_type": "markdown",
   "id": "artistic-wallpaper",
   "metadata": {},
   "source": [
    "### Display"
   ]
  },
  {
   "cell_type": "markdown",
   "id": "exciting-butterfly",
   "metadata": {},
   "source": [
    "- It is important to monitor what is happening so that the engine can be stopped if it gets stuck."
   ]
  },
  {
   "cell_type": "code",
   "execution_count": 86,
   "id": "micro-litigation",
   "metadata": {},
   "outputs": [
    {
     "name": "stdout",
     "output_type": "stream",
     "text": [
      "ffk4p ji8yt\t1\t7 days, 11:14:55.306871\n"
     ]
    }
   ],
   "source": [
    "import datetime\n",
    "guess = \"ffk4p ji8yt\"\n",
    "timeDiff = datetime.datetime.now() - startTime\n",
    "fitness = get_fitness(guess)\n",
    "print(\"{0}\\t{1}\\t{2}\".format(guess, fitness, str(timeDiff)))"
   ]
  },
  {
   "cell_type": "code",
   "execution_count": 5,
   "id": "approved-blowing",
   "metadata": {},
   "outputs": [],
   "source": [
    "import datetime\n",
    "...\n",
    "def display(guess):\n",
    "    timeDiff = datetime.datetime.now() - startTime\n",
    "    fitness = get_fitness(guess)\n",
    "    print(\"{0}\\t{1}\\t{2}\".format(guess, fitness, str(timeDiff)))"
   ]
  },
  {
   "cell_type": "markdown",
   "id": "impressed-theory",
   "metadata": {},
   "source": [
    "### Main"
   ]
  },
  {
   "cell_type": "markdown",
   "id": "antique-mathematics",
   "metadata": {},
   "source": [
    "The main program begins by initializing `bestParent` to a random sequence of letters and calling the display function."
   ]
  },
  {
   "cell_type": "code",
   "execution_count": 6,
   "id": "utility-cyprus",
   "metadata": {},
   "outputs": [
    {
     "name": "stdout",
     "output_type": "stream",
     "text": [
      "ElZ WSpACXwv\t0\t0:00:00.000178\n"
     ]
    }
   ],
   "source": [
    "random.seed()\n",
    "startTime = datetime.datetime.now()\n",
    "bestParent = generate_parent(len(target))\n",
    "bestFitness = get_fitness(bestParent)\n",
    "display(bestParent)"
   ]
  },
  {
   "cell_type": "markdown",
   "id": "boolean-activity",
   "metadata": {},
   "source": [
    "The final piece is the heart of the genetic engine - a loop that:\n",
    "- generates a guess,\n",
    "- requests the `fitness` for that guess,\n",
    "- compares the `fitness` to that of the previous best guess, and \n",
    "- keeps the guess with the better fitness.\n",
    "This cycle repeats untill a `stop condition` occurs, in this case when all the letters in the guess match those in the target."
   ]
  },
  {
   "cell_type": "code",
   "execution_count": 7,
   "id": "middle-adelaide",
   "metadata": {},
   "outputs": [
    {
     "name": "stdout",
     "output_type": "stream",
     "text": [
      "ElZ WSWACXwv\t1\t0:00:05.212893\n",
      "ElZ WSWArXwv\t2\t0:00:05.213300\n",
      "ElZ oSWArXwv\t3\t0:00:05.213786\n",
      "ElZ oSWArXdv\t4\t0:00:05.214265\n",
      "ElZ oSWorXdv\t5\t0:00:05.214345\n",
      "HlZ oSWorXdv\t6\t0:00:05.215281\n",
      "Hll oSWorXdv\t7\t0:00:05.216446\n",
      "Hel oSWorXdv\t8\t0:00:05.216544\n",
      "Hel oSWorldv\t9\t0:00:05.216583\n",
      "HelloSWorldv\t10\t0:00:05.217478\n",
      "HelloSWorld!\t11\t0:00:05.219173\n",
      "Hello World!\t12\t0:00:05.230206\n"
     ]
    }
   ],
   "source": [
    "while True:\n",
    "    child = mutate(bestParent)\n",
    "    childFitness = get_fitness(child)\n",
    "    if bestFitness >= childFitness:\n",
    "        continue\n",
    "    display(child)\n",
    "    if childFitness >= len(bestParent):\n",
    "        break\n",
    "    bestFitness = childFitness\n",
    "    bestParent = child"
   ]
  },
  {
   "cell_type": "markdown",
   "id": "amber-sellers",
   "metadata": {},
   "source": [
    "## Extract a reusable engine"
   ]
  },
  {
   "cell_type": "markdown",
   "id": "varied-niagara",
   "metadata": {},
   "source": [
    "- Move the `mutate` and `generate_parent` functions to the new file and rename them to `_mutate` and `_generate_parent`. This is how protected functions are named in Python. Protected functions are only accessible to other fuctions in the same module. "
   ]
  },
  {
   "cell_type": "markdown",
   "id": "extra-grade",
   "metadata": {},
   "source": [
    "### Generate and Mutate"
   ]
  },
  {
   "cell_type": "markdown",
   "id": "micro-switzerland",
   "metadata": {},
   "source": [
    "Future projects will need to be able to customize the gene set, so that needs to become a parameter to `_generate_parent` and `_mutate`."
   ]
  },
  {
   "cell_type": "code",
   "execution_count": 9,
   "id": "industrial-modern",
   "metadata": {},
   "outputs": [],
   "source": [
    "import random\n",
    "\n",
    "def _generate_parent(length, geneSet):\n",
    "    genes = []\n",
    "    while len(genes) < length:\n",
    "        sampleSize = min(length - len(genes), len(geneSet))\n",
    "        genes.extend(random.sample(geneSet, sampleSize))\n",
    "    return ''.join(genes)"
   ]
  },
  {
   "cell_type": "code",
   "execution_count": 10,
   "id": "alleged-gardening",
   "metadata": {},
   "outputs": [],
   "source": [
    "def _mutate(parent, geneSet):\n",
    "    index = random.randrange(0, len(parent))\n",
    "    childGenes = list(parent)\n",
    "    newGene, alternate = random.sample(genSet, 2)\n",
    "    childGenes[index] = alternate \\\n",
    "        if newGene == childGenes[index] \\\n",
    "        else newGene\n",
    "    return ''.join(childGenes)"
   ]
  },
  {
   "cell_type": "markdown",
   "id": "northern-strategy",
   "metadata": {},
   "source": [
    "### Get best"
   ]
  },
  {
   "cell_type": "markdown",
   "id": "round-portugal",
   "metadata": {},
   "source": [
    "The next step is to move the main loop into a new public function named `get_best` in the `genetic` module. Its parameters are:\n",
    "* the function it calls to request the fitness for a guess,\n",
    "* the number of genes to use when creating a new gene sequence,\n",
    "* the optimal fitness value,\n",
    "* the set of genes to use for creating and mutating gene sequences, and\n",
    "* the function it should call to display, or report, each improvement found."
   ]
  },
  {
   "cell_type": "code",
   "execution_count": 12,
   "id": "matched-layout",
   "metadata": {},
   "outputs": [],
   "source": [
    "def get_best(get_fitness, targetLen, optimalFitness, geneSet, display):\n",
    "    random.seed()\n",
    "    bestParent = _generate_parent(targetLen, geneSet)\n",
    "    bestFitness = get_fitness(bestParent)\n",
    "    display(bestParent)\n",
    "    if bestFitness >= optimalFitness:\n",
    "        return bestParent\n",
    "    \n",
    "    while True:\n",
    "        child = _mutate(bestParent, geneSet)\n",
    "        childFitness = get_fitness(child)\n",
    "        if bestFitness >= childFitness:\n",
    "            continue\n",
    "        display(child)\n",
    "        if childFitness >= optimalFitness:\n",
    "            return child\n",
    "        bestFitness = childFitness\n",
    "        bestParent = child"
   ]
  },
  {
   "cell_type": "markdown",
   "id": "familiar-watson",
   "metadata": {},
   "source": [
    "* The `display` and `get_fitness` are called with only one parameter - the child gene sequence.\n",
    "* This is because the genetic sequence does not need access to the target value.\n",
    "* It does not care about how much time has passed. <br>\n",
    "The result is a module `genetic` that can be reused. "
   ]
  },
  {
   "cell_type": "markdown",
   "id": "greater-nickname",
   "metadata": {},
   "source": [
    "#### Making a module in python\n",
    "1. Create a python function.\n",
    "2. Save it as .py\n",
    "3. Use `import` keyword in a new program to access the fuction you saved. e.g.,<br>\n",
    "\n",
    "```python\n",
    "# Define a function\n",
    "def world():\n",
    "    print(\"Hello, World!\")\n",
    "# Save the program as `hello.py`\n",
    "``` \n",
    "\n",
    "```python\n",
    "# Import hello module\n",
    "import hello\n",
    "# Call function\n",
    "hello.world()\n",
    "```"
   ]
  },
  {
   "cell_type": "markdown",
   "id": "signal-bidding",
   "metadata": {},
   "source": [
    "### Use the genetic module"
   ]
  },
  {
   "cell_type": "code",
   "execution_count": 89,
   "id": "narrow-boring",
   "metadata": {},
   "outputs": [],
   "source": [
    "import datetime\n",
    "#import genetic"
   ]
  },
  {
   "cell_type": "code",
   "execution_count": 87,
   "id": "developing-allah",
   "metadata": {},
   "outputs": [],
   "source": [
    "def test_Hello_World():\n",
    "    target = \"Hello World!\"\n",
    "    guess_password(target)\n",
    "    \n",
    "def guess_password(target):\n",
    "    geneset = \" abcdefghijklmnopqrstuvwxyzABCDEFGHIJKLMNOPQRSTUVWXYZ!.\"\n",
    "    startTime = datetime.datetime.now()\n",
    "    \n",
    "    def fnGetFitness(genes):\n",
    "        return get_fitness(genes, target)\n",
    "    \n",
    "    def fnDisplay(genes):\n",
    "        display(genes, target, startTime)\n",
    "        \n",
    "    optimalFitness = len(target)\n",
    "    genetic.get_best(fnGetFitness, len(target), optimalFitness, geneset, fnDisplay)"
   ]
  },
  {
   "cell_type": "markdown",
   "id": "proved-realtor",
   "metadata": {},
   "source": [
    "### Display"
   ]
  },
  {
   "cell_type": "markdown",
   "id": "floating-tender",
   "metadata": {},
   "source": [
    "* Change `display` to take the target password as a parameter.\n",
    "* This change facilitates trying different passwords without side effects."
   ]
  },
  {
   "cell_type": "code",
   "execution_count": 90,
   "id": "classified-shield",
   "metadata": {},
   "outputs": [],
   "source": [
    "def display(genes, target, startTime):\n",
    "    timeDiff = datetime.datetime.now() - startTime\n",
    "    fitness = get_fitness(genes,target)\n",
    "    print(\"{0}\\t{1}\\t{2}\".format(genes, fitness, str(timeDiff)))"
   ]
  },
  {
   "cell_type": "markdown",
   "id": "bizarre-backing",
   "metadata": {},
   "source": [
    "### Fitness\n",
    "The fitness function needs to receive the target password as a parameter"
   ]
  },
  {
   "cell_type": "code",
   "execution_count": 91,
   "id": "political-snake",
   "metadata": {},
   "outputs": [],
   "source": [
    "def get_fitness(genes, target):\n",
    "    return sum(1 for expected, actual in zip(target, genes) if expected == actual)"
   ]
  },
  {
   "cell_type": "markdown",
   "id": "electrical-thing",
   "metadata": {},
   "source": [
    "### Main\n",
    "* To make it possible to execute code from a command line add:"
   ]
  },
  {
   "cell_type": "markdown",
   "id": "further-converter",
   "metadata": {},
   "source": [
    "```python\n",
    "# guessPasswordTests.py\n",
    "if __name__ == '__main__':\n",
    "    test_Hello_World()\n",
    "```"
   ]
  },
  {
   "cell_type": "markdown",
   "id": "serial-england",
   "metadata": {},
   "source": [
    "### Use python's `unittest` framework\n",
    "- Make the code work with Python's built in test framework.\n"
   ]
  },
  {
   "cell_type": "markdown",
   "id": "affiliated-cisco",
   "metadata": {},
   "source": [
    "```python\n",
    "import unittest\n",
    "```"
   ]
  },
  {
   "cell_type": "code",
   "execution_count": null,
   "id": "perfect-tanzania",
   "metadata": {},
   "outputs": [],
   "source": []
  }
 ],
 "metadata": {
  "kernelspec": {
   "display_name": "Python 3",
   "language": "python",
   "name": "python3"
  },
  "language_info": {
   "codemirror_mode": {
    "name": "ipython",
    "version": 3
   },
   "file_extension": ".py",
   "mimetype": "text/x-python",
   "name": "python",
   "nbconvert_exporter": "python",
   "pygments_lexer": "ipython3",
   "version": "3.7.3"
  }
 },
 "nbformat": 4,
 "nbformat_minor": 5
}
